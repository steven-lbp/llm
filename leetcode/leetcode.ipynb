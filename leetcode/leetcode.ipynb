{
 "cells": [
  {
   "cell_type": "markdown",
   "metadata": {},
   "source": [
    "## Array\n",
    "\n",
    "### 1. Binary Search(704)"
   ]
  },
  {
   "cell_type": "code",
   "execution_count": null,
   "metadata": {},
   "outputs": [],
   "source": [
    "\n",
    "class Solution:\n",
    "    def search(self, nums: List[int], target: int) -> int:\n",
    "        left = 0\n",
    "        right = len(nums) - 1\n",
    "        while left <= right:\n",
    "            mid = (right - left)//2 + left\n",
    "            if nums[mid] == target:\n",
    "                return mid\n",
    "            elif nums[mid] < target:\n",
    "                left = mid + 1\n",
    "            else:\n",
    "                right = mid - 1\n",
    "        return -1"
   ]
  },
  {
   "cell_type": "markdown",
   "metadata": {},
   "source": [
    "### 2. Remove Element(27)\n",
    "\n",
    "Given an integer array nums and an integer val, remove all occurrences of val in nums in-place. The order of the elements may be changed. Then return the number of elements in nums which are not equal to val.\n",
    "\n",
    "- Example 1:\n",
    "\n",
    "Input: nums = [3,2,2,3], val = 3\n",
    "\n",
    "Output: 2, nums = [2,2,\\_,\\_]\n",
    "\n",
    "- Example 2:\n",
    "\n",
    "Input: nums = [0,1,2,2,3,0,4,2], val = 2\n",
    "\n",
    "Output: 5, nums = [0,1,4,0,3,\\_,\\_,\\_]\n"
   ]
  },
  {
   "cell_type": "code",
   "execution_count": null,
   "metadata": {},
   "outputs": [],
   "source": [
    "\n",
    "class Solution:\n",
    "    def removeElement(self, nums: List[int], val: int) -> int:\n",
    "        index = 0 # slow pointer\n",
    "        for i in nums:\n",
    "            if i != val:\n",
    "                nums[index] = i\n",
    "                index += 1\n",
    "        return index"
   ]
  },
  {
   "cell_type": "markdown",
   "metadata": {},
   "source": [
    "### 3. Squares of a Sorted Array(977)\n",
    "- Example 1:\n",
    "\n",
    "Input: nums = [-4,-1,0,3,10]\n",
    "\n",
    "Output: [0,1,9,16,100]\n",
    "\n",
    "Explanation: After squaring, the array becomes [16,1,0,9,100].\n",
    "\n",
    "After sorting, it becomes [0,1,9,16,100].\n",
    "\n",
    "- Example 2:\n",
    "\n",
    "Input: nums = [-7,-3,2,3,11]\n",
    "\n",
    "Output: [4,9,9,49,121]"
   ]
  },
  {
   "cell_type": "code",
   "execution_count": null,
   "metadata": {},
   "outputs": [],
   "source": [
    "class Solution:\n",
    "    def sortedSquares(self, nums: List[int]) -> List[int]:\n",
    "        left = 0\n",
    "        right = len(nums) - 1\n",
    "        n = len(nums)\n",
    "        ans = [0] * n\n",
    "        while True:\n",
    "            if n == 0:\n",
    "                break\n",
    "            if abs(nums[left]) < abs(nums[right]):\n",
    "                ans[n-1] = nums[right]**2\n",
    "                right = right - 1\n",
    "                \n",
    "            else:\n",
    "                ans[n-1] = nums[left]**2\n",
    "                left = left + 1\n",
    "\n",
    "            n = n-1\n",
    "        return ans"
   ]
  },
  {
   "cell_type": "markdown",
   "metadata": {},
   "source": [
    "### 4. Minimum Size Subarray Sum(209)\n",
    "\n",
    "\n",
    "- Example 1:\n",
    "\n",
    "Input: target = 7, nums = [2,3,1,2,4,3]\n",
    "\n",
    "Output: 2\n",
    "\n",
    "Explanation: The subarray [4,3] has the minimal length under the problem constraint.\n",
    "\n",
    "- Example 2:\n",
    "\n",
    "Input: target = 4, nums = [1,4,4]\n",
    "\n",
    "Output: 1\n",
    "\n",
    "- Example 3:\n",
    "\n",
    "Input: target = 11, nums = [1,1,1,1,1,1,1,1]\n",
    "\n",
    "Output: 0"
   ]
  },
  {
   "cell_type": "code",
   "execution_count": null,
   "metadata": {},
   "outputs": [],
   "source": [
    "# Sliding window\n",
    "class Solution:\n",
    "    def minSubArrayLen(self, target: int, nums: List[int]) -> int:\n",
    "        left = 0\n",
    "        sum = 0\n",
    "        ans = inf\n",
    "        for i in range(len(nums)):\n",
    "            sum = sum + nums[i]\n",
    "            while sum >= target:\n",
    "                ans = min(ans, i - left + 1)\n",
    "                sum = sum - nums[left]\n",
    "                left += 1\n",
    "        if ans == inf:\n",
    "            return 0\n",
    "        return ans\n"
   ]
  },
  {
   "cell_type": "markdown",
   "metadata": {},
   "source": [
    "### 5. Spiral Matrix II(59)"
   ]
  },
  {
   "cell_type": "code",
   "execution_count": null,
   "metadata": {},
   "outputs": [],
   "source": [
    "class Solution:\n",
    "    def generateMatrix(self, n: int) -> List[List[int]]:\n",
    "        mat = [[0]*n for _ in range(n)]\n",
    "        left, right = 0, n-1 \n",
    "        top, bottom = 0, n-1\n",
    "        val = 1\n",
    "        while left<=right:\n",
    "            # fill in every val in the top row\n",
    "            for c in range(left, right+1):\n",
    "                mat[top][c] = val\n",
    "                val +=1\n",
    "            top += 1\n",
    "\n",
    "            # fill in every val in the right col\n",
    "            for r in range(top, bottom+1):\n",
    "                mat[r][right] = val\n",
    "                val +=1\n",
    "            right -= 1\n",
    "\n",
    "            # fill in every val in the bottom row\n",
    "            for c in range(right, left-1, -1):\n",
    "                mat[bottom][c] = val\n",
    "                val +=1\n",
    "            bottom -= 1\n",
    "            \n",
    "            # fill in every val in the left row\n",
    "            for r in range(bottom, top-1, -1):\n",
    "                mat[r][left] = val\n",
    "                val +=1\n",
    "            left += 1\n",
    "        return mat"
   ]
  },
  {
   "cell_type": "markdown",
   "metadata": {},
   "source": [
    "## Linked List\n",
    "### 1. Remove Linked List Elements(203)\n"
   ]
  },
  {
   "cell_type": "code",
   "execution_count": null,
   "metadata": {},
   "outputs": [],
   "source": [
    "class ListNode:\n",
    "    def __init__(self, val=0, next=None):\n",
    "        self.val = val\n",
    "        self.next = next\n",
    "class Solution:\n",
    "    def removeElements(self, head: Optional[ListNode], val: int) -> Optional[ListNode]:\n",
    "        dummy = cur =  ListNode(next = head)  # do not seperate\n",
    "        while cur.next:\n",
    "            if cur.next.val == val:\n",
    "                cur.next = cur.next.next\n",
    "            else:\n",
    "                cur = cur.next\n",
    "        return dummy.next"
   ]
  },
  {
   "cell_type": "markdown",
   "metadata": {},
   "source": [
    "### 2. Design Linked List(707)"
   ]
  },
  {
   "cell_type": "code",
   "execution_count": null,
   "metadata": {},
   "outputs": [],
   "source": [
    "class ListNode:\n",
    "    def __init__(self, val = 0, next = None):\n",
    "        self.val = val\n",
    "        self.next = next\n",
    "\n",
    "class MyLinkedList:\n",
    "\n",
    "    def __init__(self, val = 0, next = None):\n",
    "        self.head = None  # 会在添加节点后变成链表，不是空值\n",
    "        self.size = 0\n",
    "\n",
    "    def get(self, index: int) -> int:\n",
    "        if index < 0 or index >= self.size:\n",
    "            return -1\n",
    "        curr = self.head\n",
    "        for _ in range(index):\n",
    "            curr = curr.next\n",
    "        return curr.val\n",
    "\n",
    "    def addAtHead(self, val: int) -> None:\n",
    "        self.head = ListNode(val = val, next = self.head)\n",
    "        self.size += 1\n",
    "\n",
    "    def addAtTail(self, val: int) -> None:\n",
    "        if not self.head:\n",
    "            self.addAtHead(val)\n",
    "            return\n",
    "        curr = self.head\n",
    "        while curr.next:\n",
    "            curr = curr.next\n",
    "        curr.next = ListNode(val = val, next = None)\n",
    "        self.size += 1\n",
    "\n",
    "    def addAtIndex(self, index: int, val: int) -> None:\n",
    "        if index > self.size:\n",
    "            return \n",
    "        if index <= 0:\n",
    "            self.addAtHead(val)\n",
    "            return\n",
    "        curr = self.head\n",
    "        for _ in range(index-1):\n",
    "            curr = curr.next\n",
    "        curr.next = ListNode(val = val, next = curr.next)\n",
    "        self.size += 1\n",
    "\n",
    "    def deleteAtIndex(self, index: int) -> None:\n",
    "        if index >= self.size or index < 0:\n",
    "            return \n",
    "        if index == 0:\n",
    "            self.head = self.head.next\n",
    "        else:\n",
    "            curr = self.head\n",
    "            for _ in range(index - 1):\n",
    "                curr = curr.next\n",
    "            curr.next = curr.next.next\n",
    "        self.size -= 1"
   ]
  },
  {
   "cell_type": "markdown",
   "metadata": {},
   "source": [
    "### 3. Reverse Linked List(206)"
   ]
  },
  {
   "cell_type": "code",
   "execution_count": null,
   "metadata": {},
   "outputs": [],
   "source": [
    "class Solution:\n",
    "    def reverseList(self, head: Optional[ListNode]) -> Optional[ListNode]:\n",
    "        prev = None\n",
    "        curr = head\n",
    "        while curr:\n",
    "            temp = curr.next\n",
    "            curr.next = prev\n",
    "            prev = curr\n",
    "            curr = temp\n",
    "        return prev"
   ]
  },
  {
   "cell_type": "markdown",
   "metadata": {},
   "source": [
    "### 4. Swap Nodes in Pairs(24)"
   ]
  },
  {
   "cell_type": "code",
   "execution_count": null,
   "metadata": {},
   "outputs": [],
   "source": [
    "# draw a picture and it will be much easier\n",
    "class Solution:\n",
    "    def swapPairs(self, head: Optional[ListNode]) -> Optional[ListNode]:\n",
    "        dummy = ListNode(next = head)\n",
    "        prev, curr = dummy, head\n",
    "        while curr and curr.next:\n",
    "            # save ptrs\n",
    "            nxtPair = curr.next.next\n",
    "            second = curr.next\n",
    "\n",
    "            # reverse this pair\n",
    "            second.next = curr\n",
    "            curr.next = nxtPair\n",
    "            prev.next = second\n",
    "\n",
    "            # update ptrs\n",
    "            prev = curr\n",
    "            curr = nxtPair\n",
    "        return dummy.next"
   ]
  },
  {
   "cell_type": "markdown",
   "metadata": {},
   "source": [
    "### 5. Remove Nth Node From End of List(19)"
   ]
  },
  {
   "cell_type": "code",
   "execution_count": null,
   "metadata": {},
   "outputs": [],
   "source": [
    "class Solution:\n",
    "    def removeNthFromEnd(self, head: Optional[ListNode], n: int) -> Optional[ListNode]:\n",
    "        dummy = ListNode(next = head)\n",
    "        left = dummy\n",
    "        right = dummy\n",
    "        for _ in range(n):\n",
    "            right = right.next\n",
    "        while right.next:\n",
    "            left = left.next\n",
    "            right = right.next\n",
    "        left.next = left.next.next\n",
    "        return dummy.next\n"
   ]
  },
  {
   "cell_type": "markdown",
   "metadata": {},
   "source": [
    "### 6. Intersection of Two Linked Lists(160)"
   ]
  },
  {
   "cell_type": "code",
   "execution_count": null,
   "metadata": {},
   "outputs": [],
   "source": [
    "class Solution:\n",
    "    def getIntersectionNode(self, headA: ListNode, headB: ListNode) -> Optional[ListNode]:\n",
    "        lengthA, lengthB = 0, 0\n",
    "        while headA:\n",
    "            headA = headA.next\n",
    "            lengthA +=1\n",
    "        while headB:\n",
    "            headB = headB.next\n",
    "            lengthB +=1\n",
    "        a, b = headA, headB\n",
    "        if lengthA > lengthB:\n",
    "            a, b = b, a\n",
    "            lengthA, lengthB = lengthB, lengthA\n",
    "        for _ in range(lengthB - lengthA):\n",
    "            b = b.next\n",
    "        while a:\n",
    "            if a == b:  # not the value of a and b, but the linked list a and b\n",
    "                return a\n",
    "            else:\n",
    "                a = a.next\n",
    "                b = b.next\n",
    "        return None"
   ]
  },
  {
   "cell_type": "markdown",
   "metadata": {},
   "source": [
    "### 7. Linked List Cycle II(142)"
   ]
  },
  {
   "cell_type": "code",
   "execution_count": null,
   "metadata": {},
   "outputs": [],
   "source": [
    "# Solution 1: using set\n",
    "class Solution:\n",
    "    def detectCycle(self, head: Optional[ListNode]) -> Optional[ListNode]:\n",
    "        set_linked_list = set()\n",
    "        while head:\n",
    "            if head in set_linked_list:\n",
    "                return head\n",
    "            else:\n",
    "                set_linked_list.add(head)\n",
    "                head = head.next\n",
    "        return None\n",
    "    \n",
    "# Solution 2: two pointers\n",
    "# slow pointer moves one step at one time\n",
    "# fast pointer moves two stops at one time\n",
    "# if there's a circle, then the fast pointer and the slow pointer will eventually meet."
   ]
  },
  {
   "cell_type": "markdown",
   "metadata": {},
   "source": [
    "## Hash Map\n",
    "### 1. Valid Anagram(242)"
   ]
  },
  {
   "cell_type": "code",
   "execution_count": null,
   "metadata": {},
   "outputs": [],
   "source": [
    "class Solution:\n",
    "    def isAnagram(self, s: str, t: str) -> bool:\n",
    "        record = [0]*26\n",
    "        for i in s:\n",
    "            record[ord(i) - ord(\"a\")] += 1\n",
    "        for j in t:\n",
    "            record[ord(j) - ord(\"a\")] -= 1\n",
    "        for k in record:\n",
    "            if k != 0:\n",
    "                return False\n",
    "        return True"
   ]
  },
  {
   "cell_type": "markdown",
   "metadata": {},
   "source": [
    "### 2. Intersection of Two Arrays(349)"
   ]
  },
  {
   "cell_type": "code",
   "execution_count": null,
   "metadata": {},
   "outputs": [],
   "source": [
    "class Solution:\n",
    "    def intersection(self, nums1: List[int], nums2: List[int]) -> List[int]:\n",
    "        a = set(nums1)\n",
    "        b = set(nums2)\n",
    "        c = a & b\n",
    "        return list(c)"
   ]
  },
  {
   "cell_type": "markdown",
   "metadata": {},
   "source": [
    "### 3. Happy Number(202)"
   ]
  },
  {
   "cell_type": "code",
   "execution_count": null,
   "metadata": {},
   "outputs": [],
   "source": [
    "class Solution:\n",
    "    def isHappy(self, n: int) -> bool:\n",
    "        sum_set = set()\n",
    "        while True:\n",
    "            sum = 0\n",
    "            while n != 0:\n",
    "                sum += (n%10) **2\n",
    "                n = n//10\n",
    "            if sum == 1:\n",
    "                return True\n",
    "            if sum in sum_set:\n",
    "                return False\n",
    "            else:\n",
    "                sum_set.add(sum)\n",
    "                n = sum"
   ]
  },
  {
   "cell_type": "markdown",
   "metadata": {},
   "source": [
    "### 4. two sum(1)"
   ]
  },
  {
   "cell_type": "code",
   "execution_count": null,
   "metadata": {},
   "outputs": [],
   "source": [
    "class Solution:\n",
    "    def twoSum(self, nums: List[int], target: int) -> List[int]:\n",
    "        num_set = set()\n",
    "        for index, num in enumerate(nums):\n",
    "            if  target - num in num_set:\n",
    "                return index, nums.index(target - num)\n",
    "            num_set.add(num)\n",
    "        return False"
   ]
  },
  {
   "cell_type": "markdown",
   "metadata": {},
   "source": [
    "### 5. 4Sum II(454)"
   ]
  },
  {
   "cell_type": "code",
   "execution_count": null,
   "metadata": {},
   "outputs": [],
   "source": [
    "class Solution:\n",
    "    def fourSumCount(self, nums1: List[int], nums2: List[int], nums3: List[int], nums4: List[int]) -> int:\n",
    "        dict_1 = dict()\n",
    "        for i in nums1:\n",
    "            for j in nums2:\n",
    "                if i+j in dict_1:\n",
    "                    dict_1[i+j] += 1\n",
    "                else:\n",
    "                    dict_1[i+j] = 1\n",
    "        ans = 0\n",
    "        for i in nums3:\n",
    "            for j in nums4:\n",
    "                k = -(i+j)\n",
    "                if i+j in dict_1:\n",
    "                    ans +=1\n",
    "        return ans"
   ]
  },
  {
   "cell_type": "markdown",
   "metadata": {},
   "source": [
    "### 6. Ransom Note(383)"
   ]
  },
  {
   "cell_type": "code",
   "execution_count": null,
   "metadata": {},
   "outputs": [],
   "source": [
    "class Solution:\n",
    "    def canConstruct(self, ransomNote: str, magazine: str) -> bool:\n",
    "        dict_num = dict()\n",
    "        for i in magazine:\n",
    "            if i in dict_num:\n",
    "                dict_num[i] += 1\n",
    "            else:\n",
    "                dict_num[i] = 1\n",
    "        for j in ransomNote:\n",
    "            if j in dict_num:\n",
    "                dict_num[j] -= 1\n",
    "            else:\n",
    "                return False\n",
    "            if dict_num[j] == -1:\n",
    "                    return False\n",
    "        return True"
   ]
  },
  {
   "cell_type": "markdown",
   "metadata": {},
   "source": [
    "### 7. n sum(15)\n",
    "\n",
    "This question can be solved with different n\n",
    "\n",
    "The solution is two pointers.\n",
    "\n",
    "There is n - 1 loops to solve the quesion. For example, if n = 4, O(N) = O($n^{3}$)\n",
    "\n",
    "The first loop is searching the first value, the second loop is searching for the second value, \n",
    "\n",
    "The third loop is a while by left and right point."
   ]
  },
  {
   "cell_type": "markdown",
   "metadata": {},
   "source": [
    "## String\n",
    "### 1. Reversing String(344)"
   ]
  },
  {
   "cell_type": "code",
   "execution_count": null,
   "metadata": {},
   "outputs": [],
   "source": [
    "class Solution:\n",
    "    def reverseString(self, s: List[str]) -> None:\n",
    "        \"\"\"\n",
    "        Do not return anything, modify s in-place instead.\n",
    "        \"\"\"\n",
    "        n = len(s)\n",
    "        for i in range(n//2):\n",
    "            s[i], s[n-i-1] = s[n-i-1], s[i]"
   ]
  },
  {
   "cell_type": "markdown",
   "metadata": {},
   "source": [
    "### 2. Reversing String2(541)"
   ]
  },
  {
   "cell_type": "code",
   "execution_count": null,
   "metadata": {},
   "outputs": [],
   "source": [
    "class Solution:\n",
    "    def reverseStr(self, s: str, k: int) -> str:\n",
    "        l = list(s)\n",
    "        for i in range(0, len(l), 2*k):\n",
    "            l[i:i+k] = l[i:i+k][::-1]\n",
    "        return \"\".join(l)"
   ]
  },
  {
   "cell_type": "markdown",
   "metadata": {},
   "source": [
    "### 3. Reverse Words in a String(151)"
   ]
  },
  {
   "cell_type": "code",
   "execution_count": null,
   "metadata": {},
   "outputs": [],
   "source": [
    "class Solution:\n",
    "    def reverseWords(self, s: str) -> str:\n",
    "        word_list = s.split(\" \")\n",
    "        while \"\" in word_list:\n",
    "            word_list.remove(\"\")\n",
    "        word_list = word_list[::-1]\n",
    "\n",
    "        return ' '.join(word_list)"
   ]
  },
  {
   "cell_type": "markdown",
   "metadata": {},
   "source": [
    "### 4. Find the Index of the First Occurrence in a String(28)"
   ]
  },
  {
   "cell_type": "code",
   "execution_count": null,
   "metadata": {},
   "outputs": [],
   "source": [
    "### Fucking KMP!!!"
   ]
  },
  {
   "cell_type": "markdown",
   "metadata": {},
   "source": [
    "## Queue and Stack\n",
    "### 1. Valid Parentheses(20)"
   ]
  },
  {
   "cell_type": "code",
   "execution_count": null,
   "metadata": {},
   "outputs": [],
   "source": [
    "class Solution:\n",
    "    def isValid(self, s: str) -> bool:\n",
    "        stack = []\n",
    "        pairs = {\n",
    "            \"]\": \"[\",\n",
    "            \")\": \"(\",\n",
    "            \"}\": \"{\"\n",
    "        }\n",
    "\n",
    "        for str in s:\n",
    "            if str in pairs:\n",
    "                if not stack or stack[-1] != pair[i]:\n",
    "                    return False\n",
    "                stack.pop()\n",
    "            else:\n",
    "                stack.append(str)\n",
    "        return not stack"
   ]
  },
  {
   "cell_type": "markdown",
   "metadata": {},
   "source": [
    "### 2. Remove All Adjacent Duplicates In String"
   ]
  },
  {
   "cell_type": "code",
   "execution_count": null,
   "metadata": {},
   "outputs": [],
   "source": [
    "class Solution:\n",
    "    def removeDuplicates(self, s: str) -> str:\n",
    "        stack = []\n",
    "        for str in s:\n",
    "            if stack and stack[-1] == str:\n",
    "                stack.pop()\n",
    "            else:\n",
    "                stack.append(str)\n",
    "        return \"\".join(stack)"
   ]
  },
  {
   "cell_type": "markdown",
   "metadata": {},
   "source": [
    "### 3. Evaluate Reverse Polish Notation(150)"
   ]
  },
  {
   "cell_type": "code",
   "execution_count": null,
   "metadata": {},
   "outputs": [],
   "source": [
    "class Solution:\n",
    "    def evalRPN(self, tokens: List[str]) -> int:\n",
    "        stack = []\n",
    "        for str in tokens:\n",
    "            if str in [\"+\", \"-\", \"*\", \"/\"]:\n",
    "                b = int(stack.pop())\n",
    "                a = int(stack.pop())\n",
    "                if str == \"+\":\n",
    "                    c = a+b\n",
    "                elif str == \"-\":\n",
    "                    c = a-b\n",
    "                elif str == \"*\":\n",
    "                    c = a*b\n",
    "                else:\n",
    "                    c = int(a/b)\n",
    "                stack.append(c)\n",
    "            else:\n",
    "                stack.append(str)\n",
    "        return int(stack[0])"
   ]
  },
  {
   "cell_type": "markdown",
   "metadata": {},
   "source": [
    "### 4. Sliding Window Maximum(239)"
   ]
  },
  {
   "cell_type": "code",
   "execution_count": null,
   "metadata": {},
   "outputs": [],
   "source": [
    "from collections import deque\n",
    "class Solution:\n",
    "    def maxSlidingWindow(self, nums: List[int], k: int) -> List[int]:\n",
    "        que = deque()\n",
    "        result = []\n",
    "        for i in range(k): #先将前k的元素放进队列\n",
    "            que.append(nums[i])\n",
    "        result.append(max(list(que))) #result 记录前k的元素的最大值\n",
    "        for i in range(k, len(nums)):\n",
    "            que.popleft() #滑动窗口移除最前面元素\n",
    "            que.append(nums[i])\n",
    "            result.append(max(list(que))) #记录对应的最大值\n",
    "        return result"
   ]
  },
  {
   "cell_type": "markdown",
   "metadata": {},
   "source": [
    "## Binary tree\n",
    "### 1. Binary Tree Traversal(recursion)"
   ]
  },
  {
   "cell_type": "code",
   "execution_count": null,
   "metadata": {},
   "outputs": [],
   "source": [
    "# Preorder(mid, left, right) 144\n",
    "class Solution:\n",
    "    def preorderTraversal(self, root: Optional[TreeNode]) -> List[int]:\n",
    "        def preorder(root):\n",
    "            if not root:\n",
    "                return\n",
    "            res.append(root.val)\n",
    "            preorder(root.left)\n",
    "            preorder(root.right)\n",
    "            \n",
    "        res = []\n",
    "        preorder(root)\n",
    "        return res\n",
    "\n",
    "# Postorder(left, right, mid) 145\n",
    "class Solution:\n",
    "    def postorderTraversal(self, root: Optional[TreeNode]) -> List[int]:\n",
    "        def postorder(root):\n",
    "            if not root:\n",
    "                return\n",
    "            \n",
    "            postorder(root.left)\n",
    "            res.append(root.val)\n",
    "            postorder(root.right)\n",
    "            \n",
    "            \n",
    "        res = []\n",
    "        postorder(root)\n",
    "        return res\n",
    "\n",
    "# Inorder(left, mid, right) 94\n",
    "class Solution:\n",
    "    def inorderTraversal(self, root: Optional[TreeNode]) -> List[int]:\n",
    "        def inorder(root):\n",
    "            if not root:\n",
    "                return\n",
    "            inorder(root.left)\n",
    "            res.append(root.val)\n",
    "            inorder(root.right)\n",
    "            \n",
    "        res = []\n",
    "        inorder(root)\n",
    "        return res"
   ]
  },
  {
   "cell_type": "markdown",
   "metadata": {},
   "source": [
    "### 2. Binary Tree Traversal(Iterate)"
   ]
  },
  {
   "cell_type": "code",
   "execution_count": null,
   "metadata": {},
   "outputs": [],
   "source": [
    "# Preorder(mid, left, right) 144\n",
    "class Solution:\n",
    "    def preorderTraversal(self, root: Optional[TreeNode]) -> List[int]:\n",
    "        res = []\n",
    "        if not root:\n",
    "            return res\n",
    "\n",
    "        stack = [root]\n",
    "        while stack:\n",
    "            node = stack.pop()\n",
    "            res.append(node.val)\n",
    "            if node.right:  # right point first because it will be pop last\n",
    "                stack.append(node.right)\n",
    "            if node.left:  # # right point second because it will be pop first\n",
    "                stack.append(node.left)\n",
    "        return res\n",
    "\n",
    "# Postorder(left, right, mid) 145\n",
    "class Solution:\n",
    "    def postorderTraversal(self, root: Optional[TreeNode]) -> List[int]:\n",
    "        ans_rev = []  # the reverse array of answer(mid, right, left)\n",
    "        if not root:\n",
    "            return ans_rev\n",
    "\n",
    "        stack = [root]\n",
    "        while stack:\n",
    "            node = stack.pop()\n",
    "            ans_rev.append(node.val)\n",
    "            if node.left:\n",
    "                stack.append(node.left)\n",
    "            if node.right:\n",
    "                stack.append(node.right)\n",
    "        return ans_rev[::-1]\n",
    "\n",
    "# Inorder(left, mid, right) 94 (not a good solution)\n",
    "class Solution:\n",
    "    def inorderTraversal(self, root: Optional[TreeNode]) -> List[int]:\n",
    "        stack = []\n",
    "        res = []\n",
    "        if not root:\n",
    "            return res\n",
    "        cur = root  # pointer\n",
    "        while cur or stack:\n",
    "            if cur:\n",
    "                stack.append(cur)\n",
    "                cur = cur.left\n",
    "            else:\n",
    "                cur = stack.pop()\n",
    "                res.append(cur.val)\n",
    "                cur = cur.right\n",
    "        return res"
   ]
  },
  {
   "cell_type": "markdown",
   "metadata": {},
   "source": [
    "### 3. Binary Tree Level Order Traversal(102)"
   ]
  },
  {
   "cell_type": "code",
   "execution_count": null,
   "metadata": {},
   "outputs": [],
   "source": [
    "from collections import deque\n",
    "class Solution:\n",
    "    def levelOrder(self, root: Optional[TreeNode]) -> List[List[int]]:\n",
    "        if not root:\n",
    "            return []\n",
    "        queue = deque([root])\n",
    "        ans = []\n",
    "        \n",
    "        while queue:\n",
    "            level = []\n",
    "            for _ in range(len(queue)):\n",
    "                node = queue.popleft()\n",
    "                level.append(node.val)\n",
    "                if node.left:  # Add left child if it exists\n",
    "                    queue.append(node.left)\n",
    "                if node.right:  # Add right child if it exists\n",
    "                    queue.append(node.right)\n",
    "            ans.append(level)\n",
    "        return ans"
   ]
  },
  {
   "cell_type": "markdown",
   "metadata": {},
   "source": [
    "### 4. Invert Binary Tree(226)"
   ]
  },
  {
   "cell_type": "code",
   "execution_count": null,
   "metadata": {},
   "outputs": [],
   "source": [
    "class Solution:\n",
    "    def invertTree(self, root: Optional[TreeNode]) -> Optional[TreeNode]:\n",
    "        if not root: \n",
    "            return None\n",
    "\n",
    "        queue = deque([root])\n",
    "        \n",
    "        while queue:\n",
    "            node = queue.popleft()\n",
    "            node.left, node.right = node.right, node.left\n",
    "            if node.left:  # Add left child if it exists\n",
    "                queue.append(node.left)\n",
    "            if node.right:  # Add right child if it exists\n",
    "                queue.append(node.right)\n",
    "            \n",
    "        return root"
   ]
  },
  {
   "cell_type": "markdown",
   "metadata": {},
   "source": [
    "### 5. Symmetric Tree"
   ]
  },
  {
   "cell_type": "code",
   "execution_count": null,
   "metadata": {},
   "outputs": [],
   "source": [
    "from collections import deque\n",
    "class Solution:\n",
    "    def isSymmetric(self, root: Optional[TreeNode]) -> List[List[int]]:\n",
    "        if not root:\n",
    "            return []\n",
    "        queue = deque([root.left, root.right])\n",
    "        \n",
    "        while queue:\n",
    "            level = []\n",
    "            for _ in range(len(queue)):\n",
    "                node = queue.popleft()\n",
    "                if node:\n",
    "                    level.append(node.val)\n",
    "                    queue.append(node.left)  # use None node to occupy position even there's no left tree\n",
    "                    queue.append(node.right)\n",
    "                else:\n",
    "                    level.append(None)\n",
    "            if level != level[::-1]:\n",
    "                return False\n",
    "            \n",
    "        return True"
   ]
  },
  {
   "cell_type": "markdown",
   "metadata": {},
   "source": [
    "### 6. Maximum Depth of Binary Tree(104)"
   ]
  },
  {
   "cell_type": "code",
   "execution_count": null,
   "metadata": {},
   "outputs": [],
   "source": [
    "class Solution:\n",
    "    def getDepth(self, node):\n",
    "        if not node:\n",
    "            return 0\n",
    "        leftheight = self.getDepth(node.left)\n",
    "        rightheight = self.getDepth(node.right)\n",
    "        height = 1 + max(leftheight, rightheight)\n",
    "        return height\n",
    "    def maxDepth(self, root: Optional[TreeNode]) -> int:\n",
    "        return self.getDepth(root)"
   ]
  },
  {
   "cell_type": "markdown",
   "metadata": {},
   "source": [
    "### 7. Minimum Depth of Binary Tree(111)"
   ]
  },
  {
   "cell_type": "code",
   "execution_count": null,
   "metadata": {},
   "outputs": [],
   "source": [
    "from collections import deque\n",
    "class Solution:    \n",
    "    def minDepth(self, root: Optional[TreeNode]) -> int:\n",
    "        if not root:\n",
    "            return 0\n",
    "        queue = deque([root])\n",
    "        depth = 0\n",
    "        while queue:\n",
    "            depth += 1\n",
    "            for _ in range(len(queue)):\n",
    "                node = queue.popleft()\n",
    "                if not node.left and not node.right:  # only when a node has no left and right subtree can it called the minimum depth\n",
    "                    return depth\n",
    "                if node.left:\n",
    "                    queue.append(node.left)\n",
    "                if node.right:\n",
    "                    queue.append(node.right)\n",
    "                \n",
    "        return depth"
   ]
  },
  {
   "cell_type": "markdown",
   "metadata": {},
   "source": [
    "## Dynamic Programming\n",
    "### 1. Fibonacci Number(509)"
   ]
  },
  {
   "cell_type": "code",
   "execution_count": null,
   "metadata": {},
   "outputs": [],
   "source": [
    "class Solution:\n",
    "    def fib(self, n: int) -> int:\n",
    "        df = [0]*(n+1)\n",
    "        df[0] = 0\n",
    "        df[1] = 1\n",
    "        for i in range(2, n+1):\n",
    "            df[i] = df[i-1] + df[i-2]\n",
    "        return df[n]"
   ]
  },
  {
   "cell_type": "markdown",
   "metadata": {},
   "source": [
    "### 2. Climbing Stairs(70)"
   ]
  },
  {
   "cell_type": "code",
   "execution_count": null,
   "metadata": {},
   "outputs": [],
   "source": [
    "class Solution:\n",
    "    def climbStairs(self, n: int) -> int:\n",
    "        dp = [0]*(n+1)\n",
    "        dp[0] = 0\n",
    "        dp[1] = 1\n",
    "        dp[2] = 2\n",
    "        for i in range(3, n+1):\n",
    "            dp[i] = dp[i-1] + dp[i-2]\n",
    "        return dp[n]"
   ]
  },
  {
   "cell_type": "markdown",
   "metadata": {},
   "source": [
    "To reach step i, you can either:\n",
    "- Come from step i-1 (1-step move).\n",
    "- Come from step i-2 (2-step move)."
   ]
  },
  {
   "cell_type": "markdown",
   "metadata": {},
   "source": [
    "### 3. Min Cost Climbing Stairs(746)"
   ]
  },
  {
   "cell_type": "code",
   "execution_count": null,
   "metadata": {},
   "outputs": [],
   "source": [
    "class Solution:\n",
    "    def minCostClimbingStairs(self, cost: List[int]) -> int:\n",
    "        n = len(cost)\n",
    "        if n < 2:\n",
    "            return cost[n]\n",
    "        dp = [0]*(n+1)\n",
    "        dp[1] = 0\n",
    "        for i in range(2, n + 1):\n",
    "            dp[i] = min(dp[i-2] + cost[i-2], dp[i-1]+cost[i-1])\n",
    "        return dp[n]"
   ]
  },
  {
   "cell_type": "markdown",
   "metadata": {},
   "source": [
    "### 4. Unique Paths(62)"
   ]
  },
  {
   "cell_type": "code",
   "execution_count": null,
   "metadata": {},
   "outputs": [],
   "source": [
    "class Solution:\n",
    "    def uniquePaths(self, m: int, n: int) -> int:\n",
    "        dp = [[0]*n for _ in range(m)]\n",
    "        for i in range(n):\n",
    "            dp[0][i] = 1\n",
    "        for i in range(m):\n",
    "            dp[i][0] = 1\n",
    "\n",
    "        for i in range(1, m):\n",
    "            for j in range(1, n):\n",
    "                dp[i][j] = dp[i-1][j] + dp[i][j-1]\n",
    "\n",
    "        return dp[m-1][n-1]"
   ]
  },
  {
   "cell_type": "markdown",
   "metadata": {},
   "source": [
    "### 5. Unique Paths2(63)"
   ]
  },
  {
   "cell_type": "code",
   "execution_count": null,
   "metadata": {},
   "outputs": [],
   "source": [
    "class Solution:\n",
    "    def uniquePathsWithObstacles(self, obstacleGrid: List[List[int]]) -> int:\n",
    "        m = len(obstacleGrid)\n",
    "        n = len(obstacleGrid[0])\n",
    "        if obstacleGrid[m - 1][n - 1] == 1 or obstacleGrid[0][0] == 1:\n",
    "            return 0\n",
    "        dp = [[0]*n for _ in range(m)]\n",
    "\n",
    "        for i in range(m):\n",
    "            if obstacleGrid[i][0] == 0:\n",
    "                dp[i][0] = 1\n",
    "            else:\n",
    "                break\n",
    "        for j in range(n):\n",
    "            if obstacleGrid[0][j] == 0:\n",
    "                dp[0][j] = 1\n",
    "            else:\n",
    "                break\n",
    "\n",
    "        for i in range(1, m):\n",
    "            for j in range(1, n):\n",
    "                if obstacleGrid[i][j] == 1:\n",
    "                    continue\n",
    "                dp[i][j] = dp[i-1][j] + dp[i][j-1]\n",
    "        return dp[m-1][n-1]"
   ]
  },
  {
   "cell_type": "markdown",
   "metadata": {},
   "source": [
    "### 6. Integer Break(343)"
   ]
  },
  {
   "cell_type": "code",
   "execution_count": null,
   "metadata": {},
   "outputs": [],
   "source": [
    "class Solution:\n",
    "    def integerBreak(self, n: int) -> int:\n",
    "        dp = [0]* (n+1)\n",
    "        dp[2] = 1\n",
    "        for i in range(3, n+1):\n",
    "            for j in range(1, i//2 + 1):\n",
    "                dp[i] = max(dp[i], (i-j)*j, dp[i-j]*j)\n",
    "        return dp[n]"
   ]
  },
  {
   "cell_type": "markdown",
   "metadata": {},
   "source": [
    "### 7. Partition Equal Subset Sum(416)"
   ]
  },
  {
   "cell_type": "code",
   "execution_count": null,
   "metadata": {},
   "outputs": [],
   "source": [
    "class Solution:\n",
    "    def canPartition(self, nums: List[int]) -> bool:\n",
    "        \n",
    "        total_sum = sum(nums)\n",
    "\n",
    "        if total_sum % 2 != 0:\n",
    "            return False\n",
    "\n",
    "        target_sum = total_sum // 2\n",
    "        dp = [[False] * (target_sum + 1) for _ in range(len(nums) + 1)]\n",
    "\n",
    "        # 初始化第一列（空子集可以得到和为0）\n",
    "        for i in range(len(nums) + 1):\n",
    "            dp[i][0] = True\n",
    "\n",
    "        for i in range(1, len(nums) + 1):\n",
    "            for j in range(1, target_sum + 1):\n",
    "                if j < nums[i - 1]:\n",
    "                    # 当前数字大于目标和时，无法使用该数字\n",
    "                    dp[i][j] = dp[i - 1][j]\n",
    "                else:\n",
    "                    # 当前数字小于等于目标和时，可以选择使用或不使用该数字\n",
    "                    dp[i][j] = dp[i - 1][j] or dp[i - 1][j - nums[i - 1]]\n",
    "\n",
    "        return dp[len(nums)][target_sum]"
   ]
  },
  {
   "cell_type": "markdown",
   "metadata": {},
   "source": [
    "### 8. Last Stone Weight II(1049)"
   ]
  },
  {
   "cell_type": "code",
   "execution_count": null,
   "metadata": {},
   "outputs": [],
   "source": [
    "class Solution:\n",
    "    def lastStoneWeightII(self, stones: List[int]) -> int:\n",
    "        total_sum = sum(stones)\n",
    "        target = total_sum // 2\n",
    "        dp = [[False] * (target + 1) for _ in range(len(stones) + 1)]\n",
    "        for i in range(len(stones) + 1):\n",
    "            dp[i][0] = True\n",
    "\n",
    "        for i in range(1, len(stones) + 1):\n",
    "            for j in range(1, target + 1):\n",
    "                if stones[i - 1] > j:\n",
    "                    dp[i][j] = dp[i-1][j]\n",
    "                else:\n",
    "                    dp[i][j] = dp[i-1][j] or dp[i-1][j - stones[i - 1]]\n",
    "        for i in range(target, -1, -1):\n",
    "            if dp[len(stones)][i]:\n",
    "                return total_sum - 2 * i\n",
    "        \n",
    "        return 0"
   ]
  },
  {
   "cell_type": "markdown",
   "metadata": {},
   "source": [
    "### 9. target sum(494)"
   ]
  },
  {
   "cell_type": "code",
   "execution_count": null,
   "metadata": {},
   "outputs": [],
   "source": []
  }
 ],
 "metadata": {
  "kernelspec": {
   "display_name": "base",
   "language": "python",
   "name": "python3"
  },
  "language_info": {
   "codemirror_mode": {
    "name": "ipython",
    "version": 3
   },
   "file_extension": ".py",
   "mimetype": "text/x-python",
   "name": "python",
   "nbconvert_exporter": "python",
   "pygments_lexer": "ipython3",
   "version": "3.9.12"
  }
 },
 "nbformat": 4,
 "nbformat_minor": 2
}
