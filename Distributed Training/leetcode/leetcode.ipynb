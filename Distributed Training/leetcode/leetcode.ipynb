{
 "cells": [
  {
   "cell_type": "markdown",
   "metadata": {},
   "source": [
    "## Array\n",
    "\n",
    "### 1. Binary Search\n",
    "\n",
    "704. "
   ]
  },
  {
   "cell_type": "code",
   "execution_count": null,
   "metadata": {},
   "outputs": [],
   "source": [
    "\n",
    "class Solution:\n",
    "    def search(self, nums: List[int], target: int) -> int:\n",
    "        left = 0\n",
    "        right = len(nums) - 1\n",
    "        while left <= right:\n",
    "            mid = (right - left)//2 + left\n",
    "            if nums[mid] == target:\n",
    "                return mid\n",
    "            elif nums[mid] < target:\n",
    "                left = mid + 1\n",
    "            else:\n",
    "                right = mid - 1\n",
    "        return -1"
   ]
  },
  {
   "cell_type": "markdown",
   "metadata": {},
   "source": [
    "### 2. Remove Element\n",
    "\n",
    "27. \n",
    "\n",
    "Given an integer array nums and an integer val, remove all occurrences of val in nums in-place. The order of the elements may be changed. Then return the number of elements in nums which are not equal to val.\n",
    "\n",
    "- Example 1:\n",
    "\n",
    "Input: nums = [3,2,2,3], val = 3\n",
    "\n",
    "Output: 2, nums = [2,2,\\_,\\_]\n",
    "\n",
    "- Example 2:\n",
    "\n",
    "Input: nums = [0,1,2,2,3,0,4,2], val = 2\n",
    "\n",
    "Output: 5, nums = [0,1,4,0,3,\\_,\\_,\\_]\n"
   ]
  },
  {
   "cell_type": "code",
   "execution_count": null,
   "metadata": {},
   "outputs": [],
   "source": [
    "\n",
    "class Solution:\n",
    "    def removeElement(self, nums: List[int], val: int) -> int:\n",
    "        index = 0 # slow pointer\n",
    "        for i in nums:\n",
    "            if i != val:\n",
    "                nums[index] = i\n",
    "                index += 1\n",
    "        return index"
   ]
  },
  {
   "cell_type": "markdown",
   "metadata": {},
   "source": [
    "### 3. Squares of a Sorted Array\n",
    "977.\n",
    "- Example 1:\n",
    "\n",
    "Input: nums = [-4,-1,0,3,10]\n",
    "\n",
    "Output: [0,1,9,16,100]\n",
    "\n",
    "Explanation: After squaring, the array becomes [16,1,0,9,100].\n",
    "\n",
    "After sorting, it becomes [0,1,9,16,100].\n",
    "\n",
    "- Example 2:\n",
    "\n",
    "Input: nums = [-7,-3,2,3,11]\n",
    "\n",
    "Output: [4,9,9,49,121]"
   ]
  },
  {
   "cell_type": "code",
   "execution_count": null,
   "metadata": {},
   "outputs": [],
   "source": [
    "class Solution:\n",
    "    def sortedSquares(self, nums: List[int]) -> List[int]:\n",
    "        left = 0\n",
    "        right = len(nums) - 1\n",
    "        n = len(nums)\n",
    "        ans = [0] * n\n",
    "        while True:\n",
    "            if n == 0:\n",
    "                break\n",
    "            if abs(nums[left]) < abs(nums[right]):\n",
    "                ans[n-1] = nums[right]**2\n",
    "                right = right - 1\n",
    "                \n",
    "            else:\n",
    "                ans[n-1] = nums[left]**2\n",
    "                left = left + 1\n",
    "\n",
    "            n = n-1\n",
    "        return ans"
   ]
  },
  {
   "cell_type": "markdown",
   "metadata": {},
   "source": [
    "### 4. Minimum Size Subarray Sum\n",
    "209.\n",
    "\n",
    "- Example 1:\n",
    "\n",
    "Input: target = 7, nums = [2,3,1,2,4,3]\n",
    "\n",
    "Output: 2\n",
    "\n",
    "Explanation: The subarray [4,3] has the minimal length under the problem constraint.\n",
    "\n",
    "- Example 2:\n",
    "\n",
    "Input: target = 4, nums = [1,4,4]\n",
    "\n",
    "Output: 1\n",
    "\n",
    "- Example 3:\n",
    "\n",
    "Input: target = 11, nums = [1,1,1,1,1,1,1,1]\n",
    "\n",
    "Output: 0"
   ]
  },
  {
   "cell_type": "code",
   "execution_count": null,
   "metadata": {},
   "outputs": [],
   "source": [
    "# Sliding window\n",
    "class Solution:\n",
    "    def minSubArrayLen(self, target: int, nums: List[int]) -> int:\n",
    "        left = 0\n",
    "        sum = 0\n",
    "        ans = inf\n",
    "        for i in range(len(nums)):\n",
    "            sum = sum + nums[i]\n",
    "            while sum >= target:\n",
    "                ans = min(ans, i - left + 1)\n",
    "                sum = sum - nums[left]\n",
    "                left += 1\n",
    "        if ans == inf:\n",
    "            return 0\n",
    "        return ans\n"
   ]
  },
  {
   "cell_type": "markdown",
   "metadata": {},
   "source": [
    "### 5. Spiral Matrix II\n",
    "59."
   ]
  },
  {
   "cell_type": "code",
   "execution_count": null,
   "metadata": {},
   "outputs": [],
   "source": [
    "class Solution:\n",
    "    def generateMatrix(self, n: int) -> List[List[int]]:\n",
    "        mat = [[0]*n for _ in range(n)]\n",
    "        left, right = 0, n-1 \n",
    "        top, bottom = 0, n-1\n",
    "        val = 1\n",
    "        while left<=right:\n",
    "            # fill in every val in the top row\n",
    "            for c in range(left, right+1):\n",
    "                mat[top][c] = val\n",
    "                val +=1\n",
    "            top += 1\n",
    "\n",
    "            # fill in every val in the right col\n",
    "            for r in range(top, bottom+1):\n",
    "                mat[r][right] = val\n",
    "                val +=1\n",
    "            right -= 1\n",
    "\n",
    "            # fill in every val in the bottom row\n",
    "            for c in range(right, left-1, -1):\n",
    "                mat[bottom][c] = val\n",
    "                val +=1\n",
    "            bottom -= 1\n",
    "            \n",
    "            # fill in every val in the left row\n",
    "            for r in range(bottom, top-1, -1):\n",
    "                mat[r][left] = val\n",
    "                val +=1\n",
    "            left += 1\n",
    "        return mat"
   ]
  },
  {
   "cell_type": "markdown",
   "metadata": {},
   "source": [
    "## Linked List\n",
    "### 1. Remove Linked List Elements\n",
    "203."
   ]
  },
  {
   "cell_type": "code",
   "execution_count": null,
   "metadata": {},
   "outputs": [],
   "source": []
  }
 ],
 "metadata": {
  "kernelspec": {
   "display_name": "base",
   "language": "python",
   "name": "python3"
  },
  "language_info": {
   "codemirror_mode": {
    "name": "ipython",
    "version": 3
   },
   "file_extension": ".py",
   "mimetype": "text/x-python",
   "name": "python",
   "nbconvert_exporter": "python",
   "pygments_lexer": "ipython3",
   "version": "3.9.12"
  }
 },
 "nbformat": 4,
 "nbformat_minor": 2
}
